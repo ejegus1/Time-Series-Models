{
 "cells": [
  {
   "cell_type": "code",
   "execution_count": 1,
   "id": "b2f4c687-cbd9-47bf-a36b-b18ee504f2c6",
   "metadata": {},
   "outputs": [
    {
     "data": {
      "text/html": [
       "<div>\n",
       "<style scoped>\n",
       "    .dataframe tbody tr th:only-of-type {\n",
       "        vertical-align: middle;\n",
       "    }\n",
       "\n",
       "    .dataframe tbody tr th {\n",
       "        vertical-align: top;\n",
       "    }\n",
       "\n",
       "    .dataframe thead th {\n",
       "        text-align: right;\n",
       "    }\n",
       "</style>\n",
       "<table border=\"1\" class=\"dataframe\">\n",
       "  <thead>\n",
       "    <tr style=\"text-align: right;\">\n",
       "      <th></th>\n",
       "      <th>interest_rate</th>\n",
       "      <th>conversion_rate</th>\n",
       "    </tr>\n",
       "  </thead>\n",
       "  <tbody>\n",
       "    <tr>\n",
       "      <th>0</th>\n",
       "      <td>4.370861</td>\n",
       "      <td>0.237493</td>\n",
       "    </tr>\n",
       "    <tr>\n",
       "      <th>1</th>\n",
       "      <td>9.556429</td>\n",
       "      <td>0.074741</td>\n",
       "    </tr>\n",
       "    <tr>\n",
       "      <th>2</th>\n",
       "      <td>7.587945</td>\n",
       "      <td>0.140964</td>\n",
       "    </tr>\n",
       "    <tr>\n",
       "      <th>3</th>\n",
       "      <td>6.387926</td>\n",
       "      <td>-0.042212</td>\n",
       "    </tr>\n",
       "    <tr>\n",
       "      <th>4</th>\n",
       "      <td>2.404168</td>\n",
       "      <td>0.393977</td>\n",
       "    </tr>\n",
       "  </tbody>\n",
       "</table>\n",
       "</div>"
      ],
      "text/plain": [
       "   interest_rate  conversion_rate\n",
       "0       4.370861         0.237493\n",
       "1       9.556429         0.074741\n",
       "2       7.587945         0.140964\n",
       "3       6.387926        -0.042212\n",
       "4       2.404168         0.393977"
      ]
     },
     "execution_count": 1,
     "metadata": {},
     "output_type": "execute_result"
    }
   ],
   "source": [
    "import pandas as pd\n",
    "import numpy as np\n",
    "\n",
    "# Set a random seed for reproducibility\n",
    "np.random.seed(42)\n",
    "\n",
    "# Generate 100 random values for 'interest_rate' between 1 and 10\n",
    "interest_rates = np.random.uniform(1, 10, 100)\n",
    "\n",
    "# Generate 'conversion_rate' values inversely proportional to 'interest_rate'\n",
    "conversion_rates = 1 / interest_rates + np.random.normal(0, 0.1, 100)\n",
    "\n",
    "# Create a DataFrame with 'interest_rate' and 'conversion_rate'\n",
    "data = {'interest_rate': interest_rates, 'conversion_rate': conversion_rates}\n",
    "df = pd.DataFrame(data)\n",
    "\n",
    "# Display the DataFrame\n",
    "df.head()"
   ]
  },
  {
   "cell_type": "code",
   "execution_count": 3,
   "id": "2feb027b-a1b3-4051-9071-393d53a86600",
   "metadata": {},
   "outputs": [
    {
     "name": "stdout",
     "output_type": "stream",
     "text": [
      "Reject the null hypothesis. There is a significant correlation between interest rates and conversion rates.\n",
      "The correlation is inverse (negative).\n"
     ]
    }
   ],
   "source": [
    "import pandas as pd\n",
    "from scipy import stats\n",
    "\n",
    "# Load data into a pandas DataFrame\n",
    "# Assuming df contains the data with 'interest_rate' and 'conversion_rate' columns\n",
    "\n",
    "# Formulate the hypothesis\n",
    "# H0: There is no significant correlation between interest rates and conversion rates\n",
    "# H1: Interest rates and conversion rates are inversely proportional\n",
    "\n",
    "# Perform Pearson correlation analysis\n",
    "correlation_coefficient, p_value = stats.pearsonr(df['interest_rate'], df['conversion_rate'])\n",
    "\n",
    "# Interpret the results\n",
    "alpha = 0.05\n",
    "if p_value < alpha:\n",
    "    print(\"Reject the null hypothesis. There is a significant correlation between interest rates and conversion rates.\")\n",
    "    if correlation_coefficient < 0:\n",
    "        print(\"The correlation is inverse (negative).\")\n",
    "    else:\n",
    "        print(\"The correlation is not inverse.\")\n",
    "else:\n",
    "    print(\"Fail to reject the null hypothesis. There is no significant correlation between interest rates and conversion rates.\")"
   ]
  },
  {
   "cell_type": "code",
   "execution_count": 7,
   "id": "71edc7e1-c042-43b1-b08c-fb48ca9daf0b",
   "metadata": {},
   "outputs": [
    {
     "data": {
      "application/vnd.plotly.v1+json": {
       "config": {
        "plotlyServerURL": "https://plot.ly"
       },
       "data": [
        {
         "hovertemplate": "interest_rate=%{x}<br>conversion_rate=%{y}<extra></extra>",
         "legendgroup": "",
         "marker": {
          "color": "#636efa",
          "symbol": "circle"
         },
         "mode": "markers",
         "name": "",
         "orientation": "v",
         "showlegend": false,
         "type": "scatter",
         "x": [
          4.370861069626263,
          9.556428757689245,
          7.587945476302646,
          6.387926357773329,
          2.4041677639819286,
          2.403950683025824,
          1.5227525095137953,
          8.795585311974417,
          6.41003510568888,
          7.372653200164409,
          1.185260448662222,
          9.72918866945795,
          8.491983767203795,
          2.9110519961044856,
          2.636424704863906,
          2.650640588680904,
          3.7381801866358395,
          5.72280788469014,
          4.887505167779042,
          3.6210622617823773,
          6.506676052501415,
          2.2554447458683766,
          3.629301836816963,
          4.297256589643226,
          5.104629857953324,
          8.066583652537123,
          2.7970640394252375,
          5.628109945722504,
          6.331731119758382,
          1.4180537144799796,
          6.467903667112945,
          2.5347171131856236,
          1.5854643368675156,
          9.539969835279999,
          9.690688297671034,
          8.27557613304815,
          3.741523922560336,
          1.8790490260574548,
          7.158097238609412,
          4.961372443656412,
          2.0983441136030097,
          5.456592191001432,
          1.3094966900369656,
          9.18388361870904,
          3.3290198344001523,
          6.962700559185838,
          3.8053996848046987,
          5.680612190600297,
          5.920392514089517,
          2.6636900997297435,
          9.726261649881026,
          7.976195410250031,
          9.455490474077703,
          9.053446153848839,
          6.381099809299767,
          9.296868115208051,
          1.7964325184672756,
          2.763845761772307,
          1.4070456001948426,
          3.927972976869379,
          4.498095607205338,
          3.442141285965063,
          8.458637582367365,
          4.210779940242303,
          3.5284105871864266,
          5.884264748424236,
          2.2683180247728636,
          8.219772826786357,
          1.6709557931179373,
          9.881982429404655,
          7.9502029236699165,
          2.7884411338075514,
          1.0496990541124216,
          8.339152856093508,
          7.361716094628554,
          7.561064512368886,
          7.941433120173512,
          1.6664018656068134,
          4.226191556898454,
          2.0428215357261674,
          8.767930832880342,
          6.609683141448022,
          3.9780822236738427,
          1.5720251525742128,
          3.79884089544096,
          3.9266498982407234,
          7.566455605042576,
          6.738017242196918,
          8.98491468318694,
          5.249934326457543,
          2.0763482134447155,
          7.419203085006955,
          7.847065437552077,
          6.051494778125466,
          7.938704619591049,
          5.444160367279517,
          5.704595464437946,
          4.847869165226947,
          1.2287721406968566,
          1.97102284293974
         ],
         "xaxis": "x",
         "y": [
          0.23749257815405517,
          0.07474086542528248,
          0.14096405677425244,
          -0.04221156767389353,
          0.39397716209787753,
          0.4516931685360255,
          0.8044949385331914,
          0.061866378274000634,
          0.07515602556457524,
          0.0854606768533603,
          0.9352366340448885,
          0.13565860442819502,
          0.06478209450123776,
          0.39484516941234,
          0.3890093136537437,
          0.4741317922013395,
          0.197304534994578,
          0.14197318252936098,
          0.16539254891287578,
          0.1298105614304096,
          0.18330033060199852,
          0.46947706262440675,
          0.27604643339258955,
          0.20924789357306395,
          0.05436351561773273,
          0.0819036856301212,
          0.32324628333829153,
          0.09745181552530283,
          0.14180612016598995,
          0.7455969904653387,
          0.3432281903049046,
          0.4119791244334668,
          0.6564850887785675,
          0.09737754279763206,
          -0.08868527702074476,
          0.1181861207956208,
          0.27329379640469975,
          0.7785083033784502,
          0.12046583361110066,
          0.2317118661270967,
          0.4730950799733509,
          0.06639676228883554,
          0.877934459886387,
          0.18407970051818526,
          0.37949191262859655,
          0.05268368830172723,
          0.4030639170421134,
          0.03585225843556425,
          0.22759342920099698,
          0.594464610052571,
          0.0037607925967298728,
          0.06874328381249473,
          0.11572379627808095,
          0.060107611877403426,
          0.001646454042023654,
          0.11441940234644189,
          0.45042844532104664,
          0.40917393396680257,
          0.6187665968539466,
          0.40957767666852285,
          0.14399097689338164,
          0.25831068569735005,
          0.19957407022540102,
          0.11439926321399388,
          0.30615972190560653,
          0.3006590421499973,
          0.2801069662690181,
          0.14012124928483635,
          0.6244481573693328,
          0.17937655737036134,
          0.0020878818255983256,
          0.226577652583992,
          1.0048481539929393,
          0.1496147246766407,
          0.16088717760553942,
          0.16690133038221655,
          0.057919384120171294,
          0.6233207132458882,
          0.2659269051321015,
          0.41808388005578867,
          0.30062944571392336,
          0.1986764749261012,
          0.13224705873271553,
          0.7017774981984544,
          0.16577002260508655,
          0.3333784783068434,
          0.24802183469168088,
          0.06634338007604333,
          0.20763527520176625,
          0.23175666591320515,
          0.5638208017684382,
          0.32446466382855654,
          0.10289736284710661,
          0.08987481170711786,
          0.03701369214679673,
          0.10210202500243062,
          0.1675870970653976,
          0.2403913913964781,
          0.8414896141720707,
          0.5900691166927633
         ],
         "yaxis": "y"
        },
        {
         "hovertemplate": "<b>OLS trendline</b><br>conversion_rate = -0.0681325 * interest_rate + 0.632974<br>R<sup>2</sup>=0.607181<br><br>interest_rate=%{x}<br>conversion_rate=%{y} <b>(trend)</b><extra></extra>",
         "legendgroup": "",
         "marker": {
          "color": "#636efa",
          "symbol": "circle"
         },
         "mode": "lines",
         "name": "",
         "showlegend": false,
         "type": "scatter",
         "x": [
          1.0496990541124216,
          1.185260448662222,
          1.2287721406968566,
          1.3094966900369656,
          1.4070456001948426,
          1.4180537144799796,
          1.5227525095137953,
          1.5720251525742128,
          1.5854643368675156,
          1.6664018656068134,
          1.6709557931179373,
          1.7964325184672756,
          1.8790490260574548,
          1.97102284293974,
          2.0428215357261674,
          2.0763482134447155,
          2.0983441136030097,
          2.2554447458683766,
          2.2683180247728636,
          2.403950683025824,
          2.4041677639819286,
          2.5347171131856236,
          2.636424704863906,
          2.650640588680904,
          2.6636900997297435,
          2.763845761772307,
          2.7884411338075514,
          2.7970640394252375,
          2.9110519961044856,
          3.3290198344001523,
          3.442141285965063,
          3.5284105871864266,
          3.6210622617823773,
          3.629301836816963,
          3.7381801866358395,
          3.741523922560336,
          3.79884089544096,
          3.8053996848046987,
          3.9266498982407234,
          3.927972976869379,
          3.9780822236738427,
          4.210779940242303,
          4.226191556898454,
          4.297256589643226,
          4.370861069626263,
          4.498095607205338,
          4.847869165226947,
          4.887505167779042,
          4.961372443656412,
          5.104629857953324,
          5.249934326457543,
          5.444160367279517,
          5.456592191001432,
          5.628109945722504,
          5.680612190600297,
          5.704595464437946,
          5.72280788469014,
          5.884264748424236,
          5.920392514089517,
          6.051494778125466,
          6.331731119758382,
          6.381099809299767,
          6.387926357773329,
          6.41003510568888,
          6.467903667112945,
          6.506676052501415,
          6.609683141448022,
          6.738017242196918,
          6.962700559185838,
          7.158097238609412,
          7.361716094628554,
          7.372653200164409,
          7.419203085006955,
          7.561064512368886,
          7.566455605042576,
          7.587945476302646,
          7.847065437552077,
          7.938704619591049,
          7.941433120173512,
          7.9502029236699165,
          7.976195410250031,
          8.066583652537123,
          8.219772826786357,
          8.27557613304815,
          8.339152856093508,
          8.458637582367365,
          8.491983767203795,
          8.767930832880342,
          8.795585311974417,
          8.98491468318694,
          9.053446153848839,
          9.18388361870904,
          9.296868115208051,
          9.455490474077703,
          9.539969835279999,
          9.556428757689245,
          9.690688297671034,
          9.726261649881026,
          9.72918866945795,
          9.881982429404655
         ],
         "xaxis": "x",
         "y": [
          0.5614555115575781,
          0.5522193754166854,
          0.549254815243141,
          0.5437548502265998,
          0.53710859951779,
          0.5363585892178098,
          0.5292251990079261,
          0.5258681308629798,
          0.524952485695949,
          0.5194380098613931,
          0.5191277394144994,
          0.5105786969552606,
          0.5049498281012472,
          0.49868342241146035,
          0.49379159827881647,
          0.4915073420509375,
          0.49000870647642036,
          0.47930504831295856,
          0.478427959692438,
          0.46918696817759126,
          0.46917217791026744,
          0.46027752492772306,
          0.4533479328678108,
          0.4523793692237663,
          0.45149027346741594,
          0.4446664182468464,
          0.44299067416566573,
          0.4424031740851339,
          0.4346368901087254,
          0.406159698133578,
          0.3984524513132077,
          0.39257470851256493,
          0.3862621186849683,
          0.3857007358737685,
          0.3782825821651664,
          0.3780547650914309,
          0.37414961667902785,
          0.3737027499904392,
          0.3654416703362608,
          0.365351525687189,
          0.36193745764118945,
          0.3460831814511374,
          0.345033149544486,
          0.3401913115015277,
          0.3351764545803473,
          0.32650764798679943,
          0.3026767025240394,
          0.2999762027477743,
          0.2949434408864346,
          0.28518295571266744,
          0.27528299962677755,
          0.26204989472183127,
          0.26120288354467047,
          0.24951695084646353,
          0.2459398418693525,
          0.24430580156603107,
          0.24306494392021644,
          0.23206448483463338,
          0.2296030099932233,
          0.22067068554320857,
          0.2015774841819873,
          0.19821387215058273,
          0.1977487623655763,
          0.19624243819171514,
          0.19229970867520868,
          0.18965804929169214,
          0.18263991923964118,
          0.1738961966630754,
          0.15858796151848456,
          0.14527509808396527,
          0.13140203723731897,
          0.13065686494064893,
          0.12748530510846764,
          0.11781993200864456,
          0.11745262340985259,
          0.11598846484710382,
          0.09833397518306185,
          0.09209036900032186,
          0.09190446944592569,
          0.09130696084629326,
          0.0895360278642925,
          0.08337765132890745,
          0.07294049056218872,
          0.06913847203429217,
          0.06480683122026208,
          0.056666038612694015,
          0.05439407981534263,
          0.03559311753007984,
          0.03370894885015002,
          0.020809466266662316,
          0.016140246131601244,
          0.007253216108616842,
          -0.00044469962130520054,
          -0.011252036816198232,
          -0.017007826536061373,
          -0.01812921399750666,
          -0.02727665153754963,
          -0.029700352806561796,
          -0.029899777955508505,
          -0.040309998158932304
         ],
         "yaxis": "y"
        }
       ],
       "layout": {
        "autosize": true,
        "legend": {
         "tracegroupgap": 0
        },
        "margin": {
         "t": 60
        },
        "template": {
         "data": {
          "bar": [
           {
            "error_x": {
             "color": "#2a3f5f"
            },
            "error_y": {
             "color": "#2a3f5f"
            },
            "marker": {
             "line": {
              "color": "#E5ECF6",
              "width": 0.5
             },
             "pattern": {
              "fillmode": "overlay",
              "size": 10,
              "solidity": 0.2
             }
            },
            "type": "bar"
           }
          ],
          "barpolar": [
           {
            "marker": {
             "line": {
              "color": "#E5ECF6",
              "width": 0.5
             },
             "pattern": {
              "fillmode": "overlay",
              "size": 10,
              "solidity": 0.2
             }
            },
            "type": "barpolar"
           }
          ],
          "carpet": [
           {
            "aaxis": {
             "endlinecolor": "#2a3f5f",
             "gridcolor": "white",
             "linecolor": "white",
             "minorgridcolor": "white",
             "startlinecolor": "#2a3f5f"
            },
            "baxis": {
             "endlinecolor": "#2a3f5f",
             "gridcolor": "white",
             "linecolor": "white",
             "minorgridcolor": "white",
             "startlinecolor": "#2a3f5f"
            },
            "type": "carpet"
           }
          ],
          "choropleth": [
           {
            "colorbar": {
             "outlinewidth": 0,
             "ticks": ""
            },
            "type": "choropleth"
           }
          ],
          "contour": [
           {
            "colorbar": {
             "outlinewidth": 0,
             "ticks": ""
            },
            "colorscale": [
             [
              0,
              "#0d0887"
             ],
             [
              0.1111111111111111,
              "#46039f"
             ],
             [
              0.2222222222222222,
              "#7201a8"
             ],
             [
              0.3333333333333333,
              "#9c179e"
             ],
             [
              0.4444444444444444,
              "#bd3786"
             ],
             [
              0.5555555555555556,
              "#d8576b"
             ],
             [
              0.6666666666666666,
              "#ed7953"
             ],
             [
              0.7777777777777778,
              "#fb9f3a"
             ],
             [
              0.8888888888888888,
              "#fdca26"
             ],
             [
              1,
              "#f0f921"
             ]
            ],
            "type": "contour"
           }
          ],
          "contourcarpet": [
           {
            "colorbar": {
             "outlinewidth": 0,
             "ticks": ""
            },
            "type": "contourcarpet"
           }
          ],
          "heatmap": [
           {
            "colorbar": {
             "outlinewidth": 0,
             "ticks": ""
            },
            "colorscale": [
             [
              0,
              "#0d0887"
             ],
             [
              0.1111111111111111,
              "#46039f"
             ],
             [
              0.2222222222222222,
              "#7201a8"
             ],
             [
              0.3333333333333333,
              "#9c179e"
             ],
             [
              0.4444444444444444,
              "#bd3786"
             ],
             [
              0.5555555555555556,
              "#d8576b"
             ],
             [
              0.6666666666666666,
              "#ed7953"
             ],
             [
              0.7777777777777778,
              "#fb9f3a"
             ],
             [
              0.8888888888888888,
              "#fdca26"
             ],
             [
              1,
              "#f0f921"
             ]
            ],
            "type": "heatmap"
           }
          ],
          "heatmapgl": [
           {
            "colorbar": {
             "outlinewidth": 0,
             "ticks": ""
            },
            "colorscale": [
             [
              0,
              "#0d0887"
             ],
             [
              0.1111111111111111,
              "#46039f"
             ],
             [
              0.2222222222222222,
              "#7201a8"
             ],
             [
              0.3333333333333333,
              "#9c179e"
             ],
             [
              0.4444444444444444,
              "#bd3786"
             ],
             [
              0.5555555555555556,
              "#d8576b"
             ],
             [
              0.6666666666666666,
              "#ed7953"
             ],
             [
              0.7777777777777778,
              "#fb9f3a"
             ],
             [
              0.8888888888888888,
              "#fdca26"
             ],
             [
              1,
              "#f0f921"
             ]
            ],
            "type": "heatmapgl"
           }
          ],
          "histogram": [
           {
            "marker": {
             "pattern": {
              "fillmode": "overlay",
              "size": 10,
              "solidity": 0.2
             }
            },
            "type": "histogram"
           }
          ],
          "histogram2d": [
           {
            "colorbar": {
             "outlinewidth": 0,
             "ticks": ""
            },
            "colorscale": [
             [
              0,
              "#0d0887"
             ],
             [
              0.1111111111111111,
              "#46039f"
             ],
             [
              0.2222222222222222,
              "#7201a8"
             ],
             [
              0.3333333333333333,
              "#9c179e"
             ],
             [
              0.4444444444444444,
              "#bd3786"
             ],
             [
              0.5555555555555556,
              "#d8576b"
             ],
             [
              0.6666666666666666,
              "#ed7953"
             ],
             [
              0.7777777777777778,
              "#fb9f3a"
             ],
             [
              0.8888888888888888,
              "#fdca26"
             ],
             [
              1,
              "#f0f921"
             ]
            ],
            "type": "histogram2d"
           }
          ],
          "histogram2dcontour": [
           {
            "colorbar": {
             "outlinewidth": 0,
             "ticks": ""
            },
            "colorscale": [
             [
              0,
              "#0d0887"
             ],
             [
              0.1111111111111111,
              "#46039f"
             ],
             [
              0.2222222222222222,
              "#7201a8"
             ],
             [
              0.3333333333333333,
              "#9c179e"
             ],
             [
              0.4444444444444444,
              "#bd3786"
             ],
             [
              0.5555555555555556,
              "#d8576b"
             ],
             [
              0.6666666666666666,
              "#ed7953"
             ],
             [
              0.7777777777777778,
              "#fb9f3a"
             ],
             [
              0.8888888888888888,
              "#fdca26"
             ],
             [
              1,
              "#f0f921"
             ]
            ],
            "type": "histogram2dcontour"
           }
          ],
          "mesh3d": [
           {
            "colorbar": {
             "outlinewidth": 0,
             "ticks": ""
            },
            "type": "mesh3d"
           }
          ],
          "parcoords": [
           {
            "line": {
             "colorbar": {
              "outlinewidth": 0,
              "ticks": ""
             }
            },
            "type": "parcoords"
           }
          ],
          "pie": [
           {
            "automargin": true,
            "type": "pie"
           }
          ],
          "scatter": [
           {
            "fillpattern": {
             "fillmode": "overlay",
             "size": 10,
             "solidity": 0.2
            },
            "type": "scatter"
           }
          ],
          "scatter3d": [
           {
            "line": {
             "colorbar": {
              "outlinewidth": 0,
              "ticks": ""
             }
            },
            "marker": {
             "colorbar": {
              "outlinewidth": 0,
              "ticks": ""
             }
            },
            "type": "scatter3d"
           }
          ],
          "scattercarpet": [
           {
            "marker": {
             "colorbar": {
              "outlinewidth": 0,
              "ticks": ""
             }
            },
            "type": "scattercarpet"
           }
          ],
          "scattergeo": [
           {
            "marker": {
             "colorbar": {
              "outlinewidth": 0,
              "ticks": ""
             }
            },
            "type": "scattergeo"
           }
          ],
          "scattergl": [
           {
            "marker": {
             "colorbar": {
              "outlinewidth": 0,
              "ticks": ""
             }
            },
            "type": "scattergl"
           }
          ],
          "scattermapbox": [
           {
            "marker": {
             "colorbar": {
              "outlinewidth": 0,
              "ticks": ""
             }
            },
            "type": "scattermapbox"
           }
          ],
          "scatterpolar": [
           {
            "marker": {
             "colorbar": {
              "outlinewidth": 0,
              "ticks": ""
             }
            },
            "type": "scatterpolar"
           }
          ],
          "scatterpolargl": [
           {
            "marker": {
             "colorbar": {
              "outlinewidth": 0,
              "ticks": ""
             }
            },
            "type": "scatterpolargl"
           }
          ],
          "scatterternary": [
           {
            "marker": {
             "colorbar": {
              "outlinewidth": 0,
              "ticks": ""
             }
            },
            "type": "scatterternary"
           }
          ],
          "surface": [
           {
            "colorbar": {
             "outlinewidth": 0,
             "ticks": ""
            },
            "colorscale": [
             [
              0,
              "#0d0887"
             ],
             [
              0.1111111111111111,
              "#46039f"
             ],
             [
              0.2222222222222222,
              "#7201a8"
             ],
             [
              0.3333333333333333,
              "#9c179e"
             ],
             [
              0.4444444444444444,
              "#bd3786"
             ],
             [
              0.5555555555555556,
              "#d8576b"
             ],
             [
              0.6666666666666666,
              "#ed7953"
             ],
             [
              0.7777777777777778,
              "#fb9f3a"
             ],
             [
              0.8888888888888888,
              "#fdca26"
             ],
             [
              1,
              "#f0f921"
             ]
            ],
            "type": "surface"
           }
          ],
          "table": [
           {
            "cells": {
             "fill": {
              "color": "#EBF0F8"
             },
             "line": {
              "color": "white"
             }
            },
            "header": {
             "fill": {
              "color": "#C8D4E3"
             },
             "line": {
              "color": "white"
             }
            },
            "type": "table"
           }
          ]
         },
         "layout": {
          "annotationdefaults": {
           "arrowcolor": "#2a3f5f",
           "arrowhead": 0,
           "arrowwidth": 1
          },
          "autotypenumbers": "strict",
          "coloraxis": {
           "colorbar": {
            "outlinewidth": 0,
            "ticks": ""
           }
          },
          "colorscale": {
           "diverging": [
            [
             0,
             "#8e0152"
            ],
            [
             0.1,
             "#c51b7d"
            ],
            [
             0.2,
             "#de77ae"
            ],
            [
             0.3,
             "#f1b6da"
            ],
            [
             0.4,
             "#fde0ef"
            ],
            [
             0.5,
             "#f7f7f7"
            ],
            [
             0.6,
             "#e6f5d0"
            ],
            [
             0.7,
             "#b8e186"
            ],
            [
             0.8,
             "#7fbc41"
            ],
            [
             0.9,
             "#4d9221"
            ],
            [
             1,
             "#276419"
            ]
           ],
           "sequential": [
            [
             0,
             "#0d0887"
            ],
            [
             0.1111111111111111,
             "#46039f"
            ],
            [
             0.2222222222222222,
             "#7201a8"
            ],
            [
             0.3333333333333333,
             "#9c179e"
            ],
            [
             0.4444444444444444,
             "#bd3786"
            ],
            [
             0.5555555555555556,
             "#d8576b"
            ],
            [
             0.6666666666666666,
             "#ed7953"
            ],
            [
             0.7777777777777778,
             "#fb9f3a"
            ],
            [
             0.8888888888888888,
             "#fdca26"
            ],
            [
             1,
             "#f0f921"
            ]
           ],
           "sequentialminus": [
            [
             0,
             "#0d0887"
            ],
            [
             0.1111111111111111,
             "#46039f"
            ],
            [
             0.2222222222222222,
             "#7201a8"
            ],
            [
             0.3333333333333333,
             "#9c179e"
            ],
            [
             0.4444444444444444,
             "#bd3786"
            ],
            [
             0.5555555555555556,
             "#d8576b"
            ],
            [
             0.6666666666666666,
             "#ed7953"
            ],
            [
             0.7777777777777778,
             "#fb9f3a"
            ],
            [
             0.8888888888888888,
             "#fdca26"
            ],
            [
             1,
             "#f0f921"
            ]
           ]
          },
          "colorway": [
           "#636efa",
           "#EF553B",
           "#00cc96",
           "#ab63fa",
           "#FFA15A",
           "#19d3f3",
           "#FF6692",
           "#B6E880",
           "#FF97FF",
           "#FECB52"
          ],
          "font": {
           "color": "#2a3f5f"
          },
          "geo": {
           "bgcolor": "white",
           "lakecolor": "white",
           "landcolor": "#E5ECF6",
           "showlakes": true,
           "showland": true,
           "subunitcolor": "white"
          },
          "hoverlabel": {
           "align": "left"
          },
          "hovermode": "closest",
          "mapbox": {
           "style": "light"
          },
          "paper_bgcolor": "white",
          "plot_bgcolor": "#E5ECF6",
          "polar": {
           "angularaxis": {
            "gridcolor": "white",
            "linecolor": "white",
            "ticks": ""
           },
           "bgcolor": "#E5ECF6",
           "radialaxis": {
            "gridcolor": "white",
            "linecolor": "white",
            "ticks": ""
           }
          },
          "scene": {
           "xaxis": {
            "backgroundcolor": "#E5ECF6",
            "gridcolor": "white",
            "gridwidth": 2,
            "linecolor": "white",
            "showbackground": true,
            "ticks": "",
            "zerolinecolor": "white"
           },
           "yaxis": {
            "backgroundcolor": "#E5ECF6",
            "gridcolor": "white",
            "gridwidth": 2,
            "linecolor": "white",
            "showbackground": true,
            "ticks": "",
            "zerolinecolor": "white"
           },
           "zaxis": {
            "backgroundcolor": "#E5ECF6",
            "gridcolor": "white",
            "gridwidth": 2,
            "linecolor": "white",
            "showbackground": true,
            "ticks": "",
            "zerolinecolor": "white"
           }
          },
          "shapedefaults": {
           "line": {
            "color": "#2a3f5f"
           }
          },
          "ternary": {
           "aaxis": {
            "gridcolor": "white",
            "linecolor": "white",
            "ticks": ""
           },
           "baxis": {
            "gridcolor": "white",
            "linecolor": "white",
            "ticks": ""
           },
           "bgcolor": "#E5ECF6",
           "caxis": {
            "gridcolor": "white",
            "linecolor": "white",
            "ticks": ""
           }
          },
          "title": {
           "x": 0.05
          },
          "xaxis": {
           "automargin": true,
           "gridcolor": "white",
           "linecolor": "white",
           "ticks": "",
           "title": {
            "standoff": 15
           },
           "zerolinecolor": "white",
           "zerolinewidth": 2
          },
          "yaxis": {
           "automargin": true,
           "gridcolor": "white",
           "linecolor": "white",
           "ticks": "",
           "title": {
            "standoff": 15
           },
           "zerolinecolor": "white",
           "zerolinewidth": 2
          }
         }
        },
        "xaxis": {
         "anchor": "y",
         "autorange": true,
         "domain": [
          0,
          1
         ],
         "range": [
          0.51595921986199,
          10.415722263655086
         ],
         "title": {
          "text": "interest_rate"
         },
         "type": "linear"
        },
        "yaxis": {
         "anchor": "x",
         "autorange": true,
         "domain": [
          0,
          1
         ],
         "range": [
          -0.17335518834595126,
          1.0895180653181458
         ],
         "title": {
          "text": "conversion_rate"
         },
         "type": "linear"
        }
       }
      },
      "image/png": "[encoded data removed]",
      "text/html": [
       "<div>                            <div id=\"5e15a6e5-70ec-4f76-ab22-23862f38a98f\" class=\"plotly-graph-div\" style=\"height:525px; width:100%;\"></div>            <script type=\"text/javascript\">                require([\"plotly\"], function(Plotly) {                    window.PLOTLYENV=window.PLOTLYENV || {};                                    if (document.getElementById(\"5e15a6e5-70ec-4f76-ab22-23862f38a98f\")) {                    Plotly.newPlot(                        \"5e15a6e5-70ec-4f76-ab22-23862f38a98f\",                        [{\"hovertemplate\":\"interest_rate=%{x}\\u003cbr\\u003econversion_rate=%{y}\\u003cextra\\u003e\\u003c\\u002fextra\\u003e\",\"legendgroup\":\"\",\"marker\":{\"color\":\"#636efa\",\"symbol\":\"circle\"},\"mode\":\"markers\",\"name\":\"\",\"orientation\":\"v\",\"showlegend\":false,\"x\":[4.370861069626263,9.556428757689245,7.587945476302646,6.387926357773329,2.4041677639819286,2.403950683025824,1.5227525095137953,8.795585311974417,6.41003510568888,7.372653200164409,1.185260448662222,9.72918866945795,8.491983767203795,2.9110519961044856,2.636424704863906,2.650640588680904,3.7381801866358395,5.72280788469014,4.887505167779042,3.6210622617823773,6.506676052501415,2.2554447458683766,3.629301836816963,4.297256589643226,5.104629857953324,8.066583652537123,2.7970640394252375,5.628109945722504,6.331731119758382,1.4180537144799796,6.467903667112945,2.5347171131856236,1.5854643368675156,9.539969835279999,9.690688297671034,8.27557613304815,3.741523922560336,1.8790490260574548,7.158097238609412,4.961372443656412,2.0983441136030097,5.456592191001432,1.3094966900369656,9.18388361870904,3.3290198344001523,6.962700559185838,3.8053996848046987,5.680612190600297,5.920392514089517,2.6636900997297435,9.726261649881026,7.976195410250031,9.455490474077703,9.053446153848839,6.381099809299767,9.296868115208051,1.7964325184672756,2.763845761772307,1.4070456001948426,3.927972976869379,4.498095607205338,3.442141285965063,8.458637582367365,4.210779940242303,3.5284105871864266,5.884264748424236,2.2683180247728636,8.219772826786357,1.6709557931179373,9.881982429404655,7.9502029236699165,2.7884411338075514,1.0496990541124216,8.339152856093508,7.361716094628554,7.561064512368886,7.941433120173512,1.6664018656068134,4.226191556898454,2.0428215357261674,8.767930832880342,6.609683141448022,3.9780822236738427,1.5720251525742128,3.79884089544096,3.9266498982407234,7.566455605042576,6.738017242196918,8.98491468318694,5.249934326457543,2.0763482134447155,7.419203085006955,7.847065437552077,6.051494778125466,7.938704619591049,5.444160367279517,5.704595464437946,4.847869165226947,1.2287721406968566,1.97102284293974],\"xaxis\":\"x\",\"y\":[0.23749257815405517,0.07474086542528248,0.14096405677425244,-0.04221156767389353,0.39397716209787753,0.4516931685360255,0.8044949385331914,0.061866378274000634,0.07515602556457524,0.0854606768533603,0.9352366340448885,0.13565860442819502,0.06478209450123776,0.39484516941234,0.3890093136537437,0.4741317922013395,0.197304534994578,0.14197318252936098,0.16539254891287578,0.1298105614304096,0.18330033060199852,0.46947706262440675,0.27604643339258955,0.20924789357306395,0.05436351561773273,0.0819036856301212,0.32324628333829153,0.09745181552530283,0.14180612016598995,0.7455969904653387,0.3432281903049046,0.4119791244334668,0.6564850887785675,0.09737754279763206,-0.08868527702074476,0.1181861207956208,0.27329379640469975,0.7785083033784502,0.12046583361110066,0.2317118661270967,0.4730950799733509,0.06639676228883554,0.877934459886387,0.18407970051818526,0.37949191262859655,0.05268368830172723,0.4030639170421134,0.03585225843556425,0.22759342920099698,0.594464610052571,0.0037607925967298728,0.06874328381249473,0.11572379627808095,0.060107611877403426,0.001646454042023654,0.11441940234644189,0.45042844532104664,0.40917393396680257,0.6187665968539466,0.40957767666852285,0.14399097689338164,0.25831068569735005,0.19957407022540102,0.11439926321399388,0.30615972190560653,0.3006590421499973,0.2801069662690181,0.14012124928483635,0.6244481573693328,0.17937655737036134,0.0020878818255983256,0.226577652583992,1.0048481539929393,0.1496147246766407,0.16088717760553942,0.16690133038221655,0.057919384120171294,0.6233207132458882,0.2659269051321015,0.41808388005578867,0.30062944571392336,0.1986764749261012,0.13224705873271553,0.7017774981984544,0.16577002260508655,0.3333784783068434,0.24802183469168088,0.06634338007604333,0.20763527520176625,0.23175666591320515,0.5638208017684382,0.32446466382855654,0.10289736284710661,0.08987481170711786,0.03701369214679673,0.10210202500243062,0.1675870970653976,0.2403913913964781,0.8414896141720707,0.5900691166927633],\"yaxis\":\"y\",\"type\":\"scatter\"},{\"hovertemplate\":\"\\u003cb\\u003eOLS trendline\\u003c\\u002fb\\u003e\\u003cbr\\u003econversion_rate = -0.0681325 * interest_rate + 0.632974\\u003cbr\\u003eR\\u003csup\\u003e2\\u003c\\u002fsup\\u003e=0.607181\\u003cbr\\u003e\\u003cbr\\u003einterest_rate=%{x}\\u003cbr\\u003econversion_rate=%{y} \\u003cb\\u003e(trend)\\u003c\\u002fb\\u003e\\u003cextra\\u003e\\u003c\\u002fextra\\u003e\",\"legendgroup\":\"\",\"marker\":{\"color\":\"#636efa\",\"symbol\":\"circle\"},\"mode\":\"lines\",\"name\":\"\",\"showlegend\":false,\"x\":[1.0496990541124216,1.185260448662222,1.2287721406968566,1.3094966900369656,1.4070456001948426,1.4180537144799796,1.5227525095137953,1.5720251525742128,1.5854643368675156,1.6664018656068134,1.6709557931179373,1.7964325184672756,1.8790490260574548,1.97102284293974,2.0428215357261674,2.0763482134447155,2.0983441136030097,2.2554447458683766,2.2683180247728636,2.403950683025824,2.4041677639819286,2.5347171131856236,2.636424704863906,2.650640588680904,2.6636900997297435,2.763845761772307,2.7884411338075514,2.7970640394252375,2.9110519961044856,3.3290198344001523,3.442141285965063,3.5284105871864266,3.6210622617823773,3.629301836816963,3.7381801866358395,3.741523922560336,3.79884089544096,3.8053996848046987,3.9266498982407234,3.927972976869379,3.9780822236738427,4.210779940242303,4.226191556898454,4.297256589643226,4.370861069626263,4.498095607205338,4.847869165226947,4.887505167779042,4.961372443656412,5.104629857953324,5.249934326457543,5.444160367279517,5.456592191001432,5.628109945722504,5.680612190600297,5.704595464437946,5.72280788469014,5.884264748424236,5.920392514089517,6.051494778125466,6.331731119758382,6.381099809299767,6.387926357773329,6.41003510568888,6.467903667112945,6.506676052501415,6.609683141448022,6.738017242196918,6.962700559185838,7.158097238609412,7.361716094628554,7.372653200164409,7.419203085006955,7.561064512368886,7.566455605042576,7.587945476302646,7.847065437552077,7.938704619591049,7.941433120173512,7.9502029236699165,7.976195410250031,8.066583652537123,8.219772826786357,8.27557613304815,8.339152856093508,8.458637582367365,8.491983767203795,8.767930832880342,8.795585311974417,8.98491468318694,9.053446153848839,9.18388361870904,9.296868115208051,9.455490474077703,9.539969835279999,9.556428757689245,9.690688297671034,9.726261649881026,9.72918866945795,9.881982429404655],\"xaxis\":\"x\",\"y\":[0.5614555115575781,0.5522193754166854,0.549254815243141,0.5437548502265998,0.53710859951779,0.5363585892178098,0.5292251990079261,0.5258681308629798,0.524952485695949,0.5194380098613931,0.5191277394144994,0.5105786969552606,0.5049498281012472,0.49868342241146035,0.49379159827881647,0.4915073420509375,0.49000870647642036,0.47930504831295856,0.478427959692438,0.46918696817759126,0.46917217791026744,0.46027752492772306,0.4533479328678108,0.4523793692237663,0.45149027346741594,0.4446664182468464,0.44299067416566573,0.4424031740851339,0.4346368901087254,0.406159698133578,0.3984524513132077,0.39257470851256493,0.3862621186849683,0.3857007358737685,0.3782825821651664,0.3780547650914309,0.37414961667902785,0.3737027499904392,0.3654416703362608,0.365351525687189,0.36193745764118945,0.3460831814511374,0.345033149544486,0.3401913115015277,0.3351764545803473,0.32650764798679943,0.3026767025240394,0.2999762027477743,0.2949434408864346,0.28518295571266744,0.27528299962677755,0.26204989472183127,0.26120288354467047,0.24951695084646353,0.2459398418693525,0.24430580156603107,0.24306494392021644,0.23206448483463338,0.2296030099932233,0.22067068554320857,0.2015774841819873,0.19821387215058273,0.1977487623655763,0.19624243819171514,0.19229970867520868,0.18965804929169214,0.18263991923964118,0.1738961966630754,0.15858796151848456,0.14527509808396527,0.13140203723731897,0.13065686494064893,0.12748530510846764,0.11781993200864456,0.11745262340985259,0.11598846484710382,0.09833397518306185,0.09209036900032186,0.09190446944592569,0.09130696084629326,0.0895360278642925,0.08337765132890745,0.07294049056218872,0.06913847203429217,0.06480683122026208,0.056666038612694015,0.05439407981534263,0.03559311753007984,0.03370894885015002,0.020809466266662316,0.016140246131601244,0.007253216108616842,-0.00044469962130520054,-0.011252036816198232,-0.017007826536061373,-0.01812921399750666,-0.02727665153754963,-0.029700352806561796,-0.029899777955508505,-0.040309998158932304],\"yaxis\":\"y\",\"type\":\"scatter\"}],                        {\"template\":{\"data\":{\"histogram2dcontour\":[{\"type\":\"histogram2dcontour\",\"colorbar\":{\"outlinewidth\":0,\"ticks\":\"\"},\"colorscale\":[[0.0,\"#0d0887\"],[0.1111111111111111,\"#46039f\"],[0.2222222222222222,\"#7201a8\"],[0.3333333333333333,\"#9c179e\"],[0.4444444444444444,\"#bd3786\"],[0.5555555555555556,\"#d8576b\"],[0.6666666666666666,\"#ed7953\"],[0.7777777777777778,\"#fb9f3a\"],[0.8888888888888888,\"#fdca26\"],[1.0,\"#f0f921\"]]}],\"choropleth\":[{\"type\":\"choropleth\",\"colorbar\":{\"outlinewidth\":0,\"ticks\":\"\"}}],\"histogram2d\":[{\"type\":\"histogram2d\",\"colorbar\":{\"outlinewidth\":0,\"ticks\":\"\"},\"colorscale\":[[0.0,\"#0d0887\"],[0.1111111111111111,\"#46039f\"],[0.2222222222222222,\"#7201a8\"],[0.3333333333333333,\"#9c179e\"],[0.4444444444444444,\"#bd3786\"],[0.5555555555555556,\"#d8576b\"],[0.6666666666666666,\"#ed7953\"],[0.7777777777777778,\"#fb9f3a\"],[0.8888888888888888,\"#fdca26\"],[1.0,\"#f0f921\"]]}],\"heatmap\":[{\"type\":\"heatmap\",\"colorbar\":{\"outlinewidth\":0,\"ticks\":\"\"},\"colorscale\":[[0.0,\"#0d0887\"],[0.1111111111111111,\"#46039f\"],[0.2222222222222222,\"#7201a8\"],[0.3333333333333333,\"#9c179e\"],[0.4444444444444444,\"#bd3786\"],[0.5555555555555556,\"#d8576b\"],[0.6666666666666666,\"#ed7953\"],[0.7777777777777778,\"#fb9f3a\"],[0.8888888888888888,\"#fdca26\"],[1.0,\"#f0f921\"]]}],\"heatmapgl\":[{\"type\":\"heatmapgl\",\"colorbar\":{\"outlinewidth\":0,\"ticks\":\"\"},\"colorscale\":[[0.0,\"#0d0887\"],[0.1111111111111111,\"#46039f\"],[0.2222222222222222,\"#7201a8\"],[0.3333333333333333,\"#9c179e\"],[0.4444444444444444,\"#bd3786\"],[0.5555555555555556,\"#d8576b\"],[0.6666666666666666,\"#ed7953\"],[0.7777777777777778,\"#fb9f3a\"],[0.8888888888888888,\"#fdca26\"],[1.0,\"#f0f921\"]]}],\"contourcarpet\":[{\"type\":\"contourcarpet\",\"colorbar\":{\"outlinewidth\":0,\"ticks\":\"\"}}],\"contour\":[{\"type\":\"contour\",\"colorbar\":{\"outlinewidth\":0,\"ticks\":\"\"},\"colorscale\":[[0.0,\"#0d0887\"],[0.1111111111111111,\"#46039f\"],[0.2222222222222222,\"#7201a8\"],[0.3333333333333333,\"#9c179e\"],[0.4444444444444444,\"#bd3786\"],[0.5555555555555556,\"#d8576b\"],[0.6666666666666666,\"#ed7953\"],[0.7777777777777778,\"#fb9f3a\"],[0.8888888888888888,\"#fdca26\"],[1.0,\"#f0f921\"]]}],\"surface\":[{\"type\":\"surface\",\"colorbar\":{\"outlinewidth\":0,\"ticks\":\"\"},\"colorscale\":[[0.0,\"#0d0887\"],[0.1111111111111111,\"#46039f\"],[0.2222222222222222,\"#7201a8\"],[0.3333333333333333,\"#9c179e\"],[0.4444444444444444,\"#bd3786\"],[0.5555555555555556,\"#d8576b\"],[0.6666666666666666,\"#ed7953\"],[0.7777777777777778,\"#fb9f3a\"],[0.8888888888888888,\"#fdca26\"],[1.0,\"#f0f921\"]]}],\"mesh3d\":[{\"type\":\"mesh3d\",\"colorbar\":{\"outlinewidth\":0,\"ticks\":\"\"}}],\"scatter\":[{\"fillpattern\":{\"fillmode\":\"overlay\",\"size\":10,\"solidity\":0.2},\"type\":\"scatter\"}],\"parcoords\":[{\"type\":\"parcoords\",\"line\":{\"colorbar\":{\"outlinewidth\":0,\"ticks\":\"\"}}}],\"scatterpolargl\":[{\"type\":\"scatterpolargl\",\"marker\":{\"colorbar\":{\"outlinewidth\":0,\"ticks\":\"\"}}}],\"bar\":[{\"error_x\":{\"color\":\"#2a3f5f\"},\"error_y\":{\"color\":\"#2a3f5f\"},\"marker\":{\"line\":{\"color\":\"#E5ECF6\",\"width\":0.5},\"pattern\":{\"fillmode\":\"overlay\",\"size\":10,\"solidity\":0.2}},\"type\":\"bar\"}],\"scattergeo\":[{\"type\":\"scattergeo\",\"marker\":{\"colorbar\":{\"outlinewidth\":0,\"ticks\":\"\"}}}],\"scatterpolar\":[{\"type\":\"scatterpolar\",\"marker\":{\"colorbar\":{\"outlinewidth\":0,\"ticks\":\"\"}}}],\"histogram\":[{\"marker\":{\"pattern\":{\"fillmode\":\"overlay\",\"size\":10,\"solidity\":0.2}},\"type\":\"histogram\"}],\"scattergl\":[{\"type\":\"scattergl\",\"marker\":{\"colorbar\":{\"outlinewidth\":0,\"ticks\":\"\"}}}],\"scatter3d\":[{\"type\":\"scatter3d\",\"line\":{\"colorbar\":{\"outlinewidth\":0,\"ticks\":\"\"}},\"marker\":{\"colorbar\":{\"outlinewidth\":0,\"ticks\":\"\"}}}],\"scattermapbox\":[{\"type\":\"scattermapbox\",\"marker\":{\"colorbar\":{\"outlinewidth\":0,\"ticks\":\"\"}}}],\"scatterternary\":[{\"type\":\"scatterternary\",\"marker\":{\"colorbar\":{\"outlinewidth\":0,\"ticks\":\"\"}}}],\"scattercarpet\":[{\"type\":\"scattercarpet\",\"marker\":{\"colorbar\":{\"outlinewidth\":0,\"ticks\":\"\"}}}],\"carpet\":[{\"aaxis\":{\"endlinecolor\":\"#2a3f5f\",\"gridcolor\":\"white\",\"linecolor\":\"white\",\"minorgridcolor\":\"white\",\"startlinecolor\":\"#2a3f5f\"},\"baxis\":{\"endlinecolor\":\"#2a3f5f\",\"gridcolor\":\"white\",\"linecolor\":\"white\",\"minorgridcolor\":\"white\",\"startlinecolor\":\"#2a3f5f\"},\"type\":\"carpet\"}],\"table\":[{\"cells\":{\"fill\":{\"color\":\"#EBF0F8\"},\"line\":{\"color\":\"white\"}},\"header\":{\"fill\":{\"color\":\"#C8D4E3\"},\"line\":{\"color\":\"white\"}},\"type\":\"table\"}],\"barpolar\":[{\"marker\":{\"line\":{\"color\":\"#E5ECF6\",\"width\":0.5},\"pattern\":{\"fillmode\":\"overlay\",\"size\":10,\"solidity\":0.2}},\"type\":\"barpolar\"}],\"pie\":[{\"automargin\":true,\"type\":\"pie\"}]},\"layout\":{\"autotypenumbers\":\"strict\",\"colorway\":[\"#636efa\",\"#EF553B\",\"#00cc96\",\"#ab63fa\",\"#FFA15A\",\"#19d3f3\",\"#FF6692\",\"#B6E880\",\"#FF97FF\",\"#FECB52\"],\"font\":{\"color\":\"#2a3f5f\"},\"hovermode\":\"closest\",\"hoverlabel\":{\"align\":\"left\"},\"paper_bgcolor\":\"white\",\"plot_bgcolor\":\"#E5ECF6\",\"polar\":{\"bgcolor\":\"#E5ECF6\",\"angularaxis\":{\"gridcolor\":\"white\",\"linecolor\":\"white\",\"ticks\":\"\"},\"radialaxis\":{\"gridcolor\":\"white\",\"linecolor\":\"white\",\"ticks\":\"\"}},\"ternary\":{\"bgcolor\":\"#E5ECF6\",\"aaxis\":{\"gridcolor\":\"white\",\"linecolor\":\"white\",\"ticks\":\"\"},\"baxis\":{\"gridcolor\":\"white\",\"linecolor\":\"white\",\"ticks\":\"\"},\"caxis\":{\"gridcolor\":\"white\",\"linecolor\":\"white\",\"ticks\":\"\"}},\"coloraxis\":{\"colorbar\":{\"outlinewidth\":0,\"ticks\":\"\"}},\"colorscale\":{\"sequential\":[[0.0,\"#0d0887\"],[0.1111111111111111,\"#46039f\"],[0.2222222222222222,\"#7201a8\"],[0.3333333333333333,\"#9c179e\"],[0.4444444444444444,\"#bd3786\"],[0.5555555555555556,\"#d8576b\"],[0.6666666666666666,\"#ed7953\"],[0.7777777777777778,\"#fb9f3a\"],[0.8888888888888888,\"#fdca26\"],[1.0,\"#f0f921\"]],\"sequentialminus\":[[0.0,\"#0d0887\"],[0.1111111111111111,\"#46039f\"],[0.2222222222222222,\"#7201a8\"],[0.3333333333333333,\"#9c179e\"],[0.4444444444444444,\"#bd3786\"],[0.5555555555555556,\"#d8576b\"],[0.6666666666666666,\"#ed7953\"],[0.7777777777777778,\"#fb9f3a\"],[0.8888888888888888,\"#fdca26\"],[1.0,\"#f0f921\"]],\"diverging\":[[0,\"#8e0152\"],[0.1,\"#c51b7d\"],[0.2,\"#de77ae\"],[0.3,\"#f1b6da\"],[0.4,\"#fde0ef\"],[0.5,\"#f7f7f7\"],[0.6,\"#e6f5d0\"],[0.7,\"#b8e186\"],[0.8,\"#7fbc41\"],[0.9,\"#4d9221\"],[1,\"#276419\"]]},\"xaxis\":{\"gridcolor\":\"white\",\"linecolor\":\"white\",\"ticks\":\"\",\"title\":{\"standoff\":15},\"zerolinecolor\":\"white\",\"automargin\":true,\"zerolinewidth\":2},\"yaxis\":{\"gridcolor\":\"white\",\"linecolor\":\"white\",\"ticks\":\"\",\"title\":{\"standoff\":15},\"zerolinecolor\":\"white\",\"automargin\":true,\"zerolinewidth\":2},\"scene\":{\"xaxis\":{\"backgroundcolor\":\"#E5ECF6\",\"gridcolor\":\"white\",\"linecolor\":\"white\",\"showbackground\":true,\"ticks\":\"\",\"zerolinecolor\":\"white\",\"gridwidth\":2},\"yaxis\":{\"backgroundcolor\":\"#E5ECF6\",\"gridcolor\":\"white\",\"linecolor\":\"white\",\"showbackground\":true,\"ticks\":\"\",\"zerolinecolor\":\"white\",\"gridwidth\":2},\"zaxis\":{\"backgroundcolor\":\"#E5ECF6\",\"gridcolor\":\"white\",\"linecolor\":\"white\",\"showbackground\":true,\"ticks\":\"\",\"zerolinecolor\":\"white\",\"gridwidth\":2}},\"shapedefaults\":{\"line\":{\"color\":\"#2a3f5f\"}},\"annotationdefaults\":{\"arrowcolor\":\"#2a3f5f\",\"arrowhead\":0,\"arrowwidth\":1},\"geo\":{\"bgcolor\":\"white\",\"landcolor\":\"#E5ECF6\",\"subunitcolor\":\"white\",\"showland\":true,\"showlakes\":true,\"lakecolor\":\"white\"},\"title\":{\"x\":0.05},\"mapbox\":{\"style\":\"light\"}}},\"xaxis\":{\"anchor\":\"y\",\"domain\":[0.0,1.0],\"title\":{\"text\":\"interest_rate\"}},\"yaxis\":{\"anchor\":\"x\",\"domain\":[0.0,1.0],\"title\":{\"text\":\"conversion_rate\"}},\"legend\":{\"tracegroupgap\":0},\"margin\":{\"t\":60}},                        {\"responsive\": true}                    ).then(function(){\n",
       "                            \n",
       "var gd = document.getElementById('5e15a6e5-70ec-4f76-ab22-23862f38a98f');\n",
       "var x = new MutationObserver(function (mutations, observer) {{\n",
       "        var display = window.getComputedStyle(gd).display;\n",
       "        if (!display || display === 'none') {{\n",
       "            console.log([gd, 'removed!']);\n",
       "            Plotly.purge(gd);\n",
       "            observer.disconnect();\n",
       "        }}\n",
       "}});\n",
       "\n",
       "// Listen for the removal of the full notebook cells\n",
       "var notebookContainer = gd.closest('#notebook-container');\n",
       "if (notebookContainer) {{\n",
       "    x.observe(notebookContainer, {childList: true});\n",
       "}}\n",
       "\n",
       "// Listen for the clearing of the current output cell\n",
       "var outputEl = gd.closest('.output');\n",
       "if (outputEl) {{\n",
       "    x.observe(outputEl, {childList: true});\n",
       "}}\n",
       "\n",
       "                        })                };                });            </script>        </div>"
      ]
     },
     "metadata": {},
     "output_type": "display_data"
    }
   ],
   "source": [
    "import plotly.express as px \n",
    "px.scatter(df, 'interest_rate', 'conversion_rate', trendline='ols')"
   ]
  },
  {
   "cell_type": "code",
   "execution_count": 9,
   "id": "30b1ef55-5cf0-4d11-9ec2-b573b05343c8",
   "metadata": {},
   "outputs": [
    {
     "data": {
      "text/plain": [
       "(-0.7792182889097841, 1.3372651168956065e-21)"
      ]
     },
     "execution_count": 9,
     "metadata": {},
     "output_type": "execute_result"
    }
   ],
   "source": [
    "correlation_coefficient, p_value"
   ]
  },
  {
   "cell_type": "markdown",
   "id": "5bed24d5-1684-4b05-87a2-957a4f4a113d",
   "metadata": {},
   "source": [
    " p value is very low - which means the corr of -.78 most likely didn't appear by chance - and it is extremly likely that the next time we get the same amount of samples , we will get the same p value, asuuming the samples are randomly selected from the same population as our original data we conducted this test on "
   ]
  },
  {
   "cell_type": "markdown",
   "id": "6e53c0f0-2398-474d-be16-8341cd1eab8b",
   "metadata": {},
   "source": [
    " point of a hypothsis test is to come to a conclusion about a population data set based on it's sample"
   ]
  },
  {
   "cell_type": "code",
   "execution_count": null,
   "id": "ef6921df-3ff0-4abe-befd-f032e8fed143",
   "metadata": {},
   "outputs": [],
   "source": []
  }
 ],
 "metadata": {
  "kernelspec": {
   "display_name": "Python 3 (ipykernel)",
   "language": "python",
   "name": "python3"
  },
  "language_info": {
   "codemirror_mode": {
    "name": "ipython",
    "version": 3
   },
   "file_extension": ".py",
   "mimetype": "text/x-python",
   "name": "python",
   "nbconvert_exporter": "python",
   "pygments_lexer": "ipython3",
   "version": "3.12.4"
  }
 },
 "nbformat": 4,
 "nbformat_minor": 5
}
